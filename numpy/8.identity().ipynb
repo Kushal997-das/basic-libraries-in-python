{
 "cells": [
  {
   "cell_type": "markdown",
   "metadata": {},
   "source": [
    "<h3>identity()</h3>"
   ]
  },
  {
   "cell_type": "markdown",
   "metadata": {},
   "source": [
    ">#it creates square matrix"
   ]
  },
  {
   "cell_type": "code",
   "execution_count": 1,
   "metadata": {},
   "outputs": [],
   "source": [
    "from numpy import*"
   ]
  },
  {
   "cell_type": "code",
   "execution_count": 2,
   "metadata": {},
   "outputs": [
    {
     "name": "stdout",
     "output_type": "stream",
     "text": [
      "[[1. 0. 0. 0. 0.]\n",
      " [0. 1. 0. 0. 0.]\n",
      " [0. 0. 1. 0. 0.]\n",
      " [0. 0. 0. 1. 0.]\n",
      " [0. 0. 0. 0. 1.]]\n"
     ]
    }
   ],
   "source": [
    "arr=identity(5)\n",
    "print(arr)"
   ]
  },
  {
   "cell_type": "code",
   "execution_count": 3,
   "metadata": {},
   "outputs": [
    {
     "name": "stdout",
     "output_type": "stream",
     "text": [
      "[[1 0 0 0 0]\n",
      " [0 1 0 0 0]\n",
      " [0 0 1 0 0]\n",
      " [0 0 0 1 0]\n",
      " [0 0 0 0 1]]\n"
     ]
    }
   ],
   "source": [
    "arr1=identity(5,int)\n",
    "print(arr1)"
   ]
  },
  {
   "cell_type": "code",
   "execution_count": 4,
   "metadata": {},
   "outputs": [
    {
     "name": "stdout",
     "output_type": "stream",
     "text": [
      "Help on function identity in module numpy:\n",
      "\n",
      "identity(n, dtype=None)\n",
      "    Return the identity array.\n",
      "    \n",
      "    The identity array is a square array with ones on\n",
      "    the main diagonal.\n",
      "    \n",
      "    Parameters\n",
      "    ----------\n",
      "    n : int\n",
      "        Number of rows (and columns) in `n` x `n` output.\n",
      "    dtype : data-type, optional\n",
      "        Data-type of the output.  Defaults to ``float``.\n",
      "    \n",
      "    Returns\n",
      "    -------\n",
      "    out : ndarray\n",
      "        `n` x `n` array with its main diagonal set to one,\n",
      "        and all other elements 0.\n",
      "    \n",
      "    Examples\n",
      "    --------\n",
      "    >>> np.identity(3)\n",
      "    array([[1.,  0.,  0.],\n",
      "           [0.,  1.,  0.],\n",
      "           [0.,  0.,  1.]])\n",
      "\n"
     ]
    }
   ],
   "source": [
    "help(identity)"
   ]
  },
  {
   "cell_type": "markdown",
   "metadata": {},
   "source": [
    "><a href='https://www.youtube.com/watch?v=EzOjhjFfM-w'>identity()</a>"
   ]
  },
  {
   "cell_type": "markdown",
   "metadata": {},
   "source": [
    "><a href=\"https://github.com/Kushal997-das/basic-libraries-in-python/blob/master/numpy/7.eye().ipynb\">Prev<br>eye()</a>"
   ]
  },
  {
   "cell_type": "markdown",
   "metadata": {},
   "source": [
    "><a href=\"https://github.com/Kushal997-das/basic-libraries-in-python/blob/master/numpy/9.random.ipynb\">Next<br>random()</a>"
   ]
  },
  {
   "cell_type": "code",
   "execution_count": null,
   "metadata": {},
   "outputs": [],
   "source": []
  }
 ],
 "metadata": {
  "kernelspec": {
   "display_name": "Python 3",
   "language": "python",
   "name": "python3"
  },
  "language_info": {
   "codemirror_mode": {
    "name": "ipython",
    "version": 3
   },
   "file_extension": ".py",
   "mimetype": "text/x-python",
   "name": "python",
   "nbconvert_exporter": "python",
   "pygments_lexer": "ipython3",
   "version": "3.7.4"
  }
 },
 "nbformat": 4,
 "nbformat_minor": 2
}

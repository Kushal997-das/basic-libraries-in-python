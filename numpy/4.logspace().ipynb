{
 "cells": [
  {
   "cell_type": "markdown",
   "metadata": {},
   "source": [
    "<h3>logspace()</h3>"
   ]
  },
  {
   "cell_type": "markdown",
   "metadata": {},
   "source": [
    ">#it is same as the linspace but difference is only it gives you logarithmic value."
   ]
  },
  {
   "cell_type": "code",
   "execution_count": 2,
   "metadata": {},
   "outputs": [],
   "source": [
    "from numpy import*"
   ]
  },
  {
   "cell_type": "code",
   "execution_count": 3,
   "metadata": {},
   "outputs": [
    {
     "name": "stdout",
     "output_type": "stream",
     "text": [
      "[1.00000000e+00 5.62341325e+05 3.16227766e+11 1.77827941e+17\n",
      " 1.00000000e+23]\n"
     ]
    }
   ],
   "source": [
    "#arr=linspace(start,end,parts,endpoint,retstep,dtype)\n",
    "arr5=logspace(0,23,5,endpoint=True)\n",
    "print(arr5)"
   ]
  },
  {
   "cell_type": "code",
   "execution_count": 4,
   "metadata": {},
   "outputs": [
    {
     "name": "stdout",
     "output_type": "stream",
     "text": [
      "[          1      562341 -2147483648 -2147483648 -2147483648]\n"
     ]
    }
   ],
   "source": [
    "arr6=logspace(0,23,5,endpoint=True,dtype='int')\n",
    "print(arr6)\n"
   ]
  },
  {
   "cell_type": "code",
   "execution_count": 5,
   "metadata": {},
   "outputs": [
    {
     "name": "stdout",
     "output_type": "stream",
     "text": [
      "[      1      53    2896  155871 8388608]\n"
     ]
    }
   ],
   "source": [
    "arr6=logspace(0,23,5,endpoint=True,dtype='int',base=2.0)\n",
    "print(arr6)"
   ]
  },
  {
   "cell_type": "code",
   "execution_count": 7,
   "metadata": {},
   "outputs": [
    {
     "name": "stdout",
     "output_type": "stream",
     "text": [
      "[ 1  1  1  1  1  1  1  1  1  1  2  2  2  2  2  2  3  3  3  3  4  4  4  5\n",
      "  5  5  6  6  7  7  8  8  9 10 11 11 12 13 14 15 16 18 19 20 22 24 25 27\n",
      " 29 32]\n"
     ]
    }
   ],
   "source": [
    "arr7=logspace(0,5,endpoint=True,dtype='int',base=2.0,axis=-1)\n",
    "print(arr7)#bydefault it take 50"
   ]
  },
  {
   "cell_type": "code",
   "execution_count": 9,
   "metadata": {},
   "outputs": [
    {
     "name": "stdout",
     "output_type": "stream",
     "text": [
      "[ 1  1  1  1  1  1  1  1  1  1  2  2  2  2  2  2  3  3  3  3  4  4  4  5\n",
      "  5  5  6  6  7  7  8  8  9 10 11 11 12 13 14 15 16 18 19 20 22 24 25 27\n",
      " 29 32]\n"
     ]
    }
   ],
   "source": [
    "arr7=logspace(0,5,endpoint=True,dtype='int',base=2.0,axis=0)\n",
    "print(arr7)#bydefault it take 50"
   ]
  },
  {
   "cell_type": "code",
   "execution_count": 10,
   "metadata": {},
   "outputs": [
    {
     "name": "stdout",
     "output_type": "stream",
     "text": [
      "Help on function logspace in module numpy:\n",
      "\n",
      "logspace(start, stop, num=50, endpoint=True, base=10.0, dtype=None, axis=0)\n",
      "    Return numbers spaced evenly on a log scale.\n",
      "    \n",
      "    In linear space, the sequence starts at ``base ** start``\n",
      "    (`base` to the power of `start`) and ends with ``base ** stop``\n",
      "    (see `endpoint` below).\n",
      "    \n",
      "    .. versionchanged:: 1.16.0\n",
      "        Non-scalar `start` and `stop` are now supported.\n",
      "    \n",
      "    Parameters\n",
      "    ----------\n",
      "    start : array_like\n",
      "        ``base ** start`` is the starting value of the sequence.\n",
      "    stop : array_like\n",
      "        ``base ** stop`` is the final value of the sequence, unless `endpoint`\n",
      "        is False.  In that case, ``num + 1`` values are spaced over the\n",
      "        interval in log-space, of which all but the last (a sequence of\n",
      "        length `num`) are returned.\n",
      "    num : integer, optional\n",
      "        Number of samples to generate.  Default is 50.\n",
      "    endpoint : boolean, optional\n",
      "        If true, `stop` is the last sample. Otherwise, it is not included.\n",
      "        Default is True.\n",
      "    base : float, optional\n",
      "        The base of the log space. The step size between the elements in\n",
      "        ``ln(samples) / ln(base)`` (or ``log_base(samples)``) is uniform.\n",
      "        Default is 10.0.\n",
      "    dtype : dtype\n",
      "        The type of the output array.  If `dtype` is not given, infer the data\n",
      "        type from the other input arguments.\n",
      "    axis : int, optional\n",
      "        The axis in the result to store the samples.  Relevant only if start\n",
      "        or stop are array-like.  By default (0), the samples will be along a\n",
      "        new axis inserted at the beginning. Use -1 to get an axis at the end.\n",
      "    \n",
      "        .. versionadded:: 1.16.0\n",
      "    \n",
      "    \n",
      "    Returns\n",
      "    -------\n",
      "    samples : ndarray\n",
      "        `num` samples, equally spaced on a log scale.\n",
      "    \n",
      "    See Also\n",
      "    --------\n",
      "    arange : Similar to linspace, with the step size specified instead of the\n",
      "             number of samples. Note that, when used with a float endpoint, the\n",
      "             endpoint may or may not be included.\n",
      "    linspace : Similar to logspace, but with the samples uniformly distributed\n",
      "               in linear space, instead of log space.\n",
      "    geomspace : Similar to logspace, but with endpoints specified directly.\n",
      "    \n",
      "    Notes\n",
      "    -----\n",
      "    Logspace is equivalent to the code\n",
      "    \n",
      "    >>> y = np.linspace(start, stop, num=num, endpoint=endpoint)\n",
      "    ... # doctest: +SKIP\n",
      "    >>> power(base, y).astype(dtype)\n",
      "    ... # doctest: +SKIP\n",
      "    \n",
      "    Examples\n",
      "    --------\n",
      "    >>> np.logspace(2.0, 3.0, num=4)\n",
      "    array([ 100.        ,  215.443469  ,  464.15888336, 1000.        ])\n",
      "    >>> np.logspace(2.0, 3.0, num=4, endpoint=False)\n",
      "    array([100.        ,  177.827941  ,  316.22776602,  562.34132519])\n",
      "    >>> np.logspace(2.0, 3.0, num=4, base=2.0)\n",
      "    array([4.        ,  5.0396842 ,  6.34960421,  8.        ])\n",
      "    \n",
      "    Graphical illustration:\n",
      "    \n",
      "    >>> import matplotlib.pyplot as plt\n",
      "    >>> N = 10\n",
      "    >>> x1 = np.logspace(0.1, 1, N, endpoint=True)\n",
      "    >>> x2 = np.logspace(0.1, 1, N, endpoint=False)\n",
      "    >>> y = np.zeros(N)\n",
      "    >>> plt.plot(x1, y, 'o')\n",
      "    [<matplotlib.lines.Line2D object at 0x...>]\n",
      "    >>> plt.plot(x2, y + 0.5, 'o')\n",
      "    [<matplotlib.lines.Line2D object at 0x...>]\n",
      "    >>> plt.ylim([-0.5, 1])\n",
      "    (-0.5, 1)\n",
      "    >>> plt.show()\n",
      "\n"
     ]
    }
   ],
   "source": [
    "help(logspace)"
   ]
  },
  {
   "cell_type": "markdown",
   "metadata": {},
   "source": [
    "><a href=\"https://www.youtube.com/watch?v=SRmGIe0BICY\">logspace</a>"
   ]
  },
  {
   "cell_type": "markdown",
   "metadata": {},
   "source": [
    "><a href=\"https://github.com/Kushal997-das/basic-libraries-in-python/blob/master/numpy/3.linspace().ipynb\">Prev<br>linspace()</a>"
   ]
  },
  {
   "cell_type": "markdown",
   "metadata": {},
   "source": [
    "><a href=\"https://github.com/Kushal997-das/basic-libraries-in-python/blob/master/numpy/zeros().ipynb\">Next<br>ones()</a>"
   ]
  },
  {
   "cell_type": "code",
   "execution_count": null,
   "metadata": {},
   "outputs": [],
   "source": []
  }
 ],
 "metadata": {
  "kernelspec": {
   "display_name": "Python 3",
   "language": "python",
   "name": "python3"
  },
  "language_info": {
   "codemirror_mode": {
    "name": "ipython",
    "version": 3
   },
   "file_extension": ".py",
   "mimetype": "text/x-python",
   "name": "python",
   "nbconvert_exporter": "python",
   "pygments_lexer": "ipython3",
   "version": "3.7.4"
  }
 },
 "nbformat": 4,
 "nbformat_minor": 2
}
